{
  "nbformat": 4,
  "nbformat_minor": 0,
  "metadata": {
    "colab": {
      "provenance": [],
      "authorship_tag": "ABX9TyPgR9MkH3WVcUz2v9kWiqeA",
      "include_colab_link": true
    },
    "kernelspec": {
      "name": "python3",
      "display_name": "Python 3"
    },
    "language_info": {
      "name": "python"
    }
  },
  "cells": [
    {
      "cell_type": "markdown",
      "metadata": {
        "id": "view-in-github",
        "colab_type": "text"
      },
      "source": [
        "<a href=\"https://colab.research.google.com/github/widchy95/deep-learning-challenge/blob/main/AlphabetSoupCharity_Optimization.ipynb\" target=\"_parent\"><img src=\"https://colab.research.google.com/assets/colab-badge.svg\" alt=\"Open In Colab\"/></a>"
      ]
    },
    {
      "cell_type": "code",
      "execution_count": 15,
      "metadata": {
        "id": "9AArKqli5laS"
      },
      "outputs": [],
      "source": [
        "import pandas as pd\n",
        "import tensorflow as tf\n",
        "from sklearn.model_selection import train_test_split\n",
        "from sklearn.preprocessing import StandardScaler\n",
        "from imblearn.over_sampling import SMOTE\n",
        "\n",
        "# Load data\n",
        "url = \"https://static.bc-edx.com/data/dl-1-2/m21/lms/starter/charity_data.csv\"\n",
        "application_df = pd.read_csv(url)\n",
        "\n",
        "# Drop irrelevant columns\n",
        "application_df = application_df.drop(columns=[\"EIN\", \"NAME\"])"
      ]
    },
    {
      "cell_type": "code",
      "source": [
        "# Bin APPLICATION_TYPE\n",
        "application_type_counts = application_df['APPLICATION_TYPE'].value_counts()\n",
        "application_types_to_replace = application_type_counts[application_type_counts < 1000].index.tolist()\n",
        "application_df['APPLICATION_TYPE'] = application_df['APPLICATION_TYPE'].replace(application_types_to_replace, \"Other\")\n",
        "\n",
        "# Bin CLASSIFICATION\n",
        "classification_counts = application_df['CLASSIFICATION'].value_counts()\n",
        "classifications_to_replace = classification_counts[classification_counts < 1000].index.tolist()\n",
        "application_df['CLASSIFICATION'] = application_df['CLASSIFICATION'].replace(classifications_to_replace, \"Other\")"
      ],
      "metadata": {
        "id": "6Pt8W4Zx5756"
      },
      "execution_count": 16,
      "outputs": []
    },
    {
      "cell_type": "code",
      "source": [
        "# One-hot encode categorical variables\n",
        "application_df = pd.get_dummies(application_df)"
      ],
      "metadata": {
        "id": "BAPG6-m76Fr_"
      },
      "execution_count": 17,
      "outputs": []
    },
    {
      "cell_type": "code",
      "source": [
        "# Split features and target\n",
        "X = application_df.drop(columns=[\"IS_SUCCESSFUL\"])\n",
        "y = application_df[\"IS_SUCCESSFUL\"]"
      ],
      "metadata": {
        "id": "p9EYNEukNfmP"
      },
      "execution_count": 18,
      "outputs": []
    },
    {
      "cell_type": "code",
      "source": [
        "# Split into train and test sets\n",
        "X_train, X_test, y_train, y_test = train_test_split(X, y, test_size=0.2, random_state=42)\n",
        "\n",
        "# Scale data\n",
        "scaler = StandardScaler()\n",
        "X_train_scaled = scaler.fit_transform(X_train)\n",
        "X_test_scaled = scaler.transform(X_test)"
      ],
      "metadata": {
        "id": "zr206yA06GAf"
      },
      "execution_count": 20,
      "outputs": []
    },
    {
      "cell_type": "markdown",
      "source": [
        "# Attempt 1: Increase Neurons and Layers"
      ],
      "metadata": {
        "id": "qSP9TVWZDDE-"
      }
    },
    {
      "cell_type": "code",
      "source": [
        "# Define model\n",
        "nn1 = tf.keras.models.Sequential()\n",
        "nn1.add(tf.keras.layers.Dense(units=100, activation=\"relu\", input_dim=X_train_scaled.shape[1]))\n",
        "nn1.add(tf.keras.layers.Dense(units=80, activation=\"relu\"))\n",
        "nn1.add(tf.keras.layers.Dense(units=50, activation=\"relu\"))\n",
        "nn1.add(tf.keras.layers.Dense(units=1, activation=\"sigmoid\"))\n",
        "\n",
        "# Compile and train model\n",
        "nn1.compile(optimizer=\"adam\", loss=\"binary_crossentropy\", metrics=[\"accuracy\"])\n",
        "history1 = nn1.fit(X_train_scaled, y_train, epochs=50, batch_size=32, verbose=2)"
      ],
      "metadata": {
        "colab": {
          "base_uri": "https://localhost:8080/"
        },
        "id": "6-q6Rw6m6aY8",
        "outputId": "d14917d9-398f-4cc0-db3f-baaff21315f2"
      },
      "execution_count": 21,
      "outputs": [
        {
          "output_type": "stream",
          "name": "stdout",
          "text": [
            "Epoch 1/50\n"
          ]
        },
        {
          "output_type": "stream",
          "name": "stderr",
          "text": [
            "/usr/local/lib/python3.10/dist-packages/keras/src/layers/core/dense.py:87: UserWarning: Do not pass an `input_shape`/`input_dim` argument to a layer. When using Sequential models, prefer using an `Input(shape)` object as the first layer in the model instead.\n",
            "  super().__init__(activity_regularizer=activity_regularizer, **kwargs)\n"
          ]
        },
        {
          "output_type": "stream",
          "name": "stdout",
          "text": [
            "858/858 - 3s - 3ms/step - accuracy: 0.7201 - loss: 0.5693\n",
            "Epoch 2/50\n",
            "858/858 - 3s - 4ms/step - accuracy: 0.7289 - loss: 0.5576\n",
            "Epoch 3/50\n",
            "858/858 - 2s - 2ms/step - accuracy: 0.7303 - loss: 0.5548\n",
            "Epoch 4/50\n",
            "858/858 - 3s - 3ms/step - accuracy: 0.7325 - loss: 0.5527\n",
            "Epoch 5/50\n",
            "858/858 - 3s - 3ms/step - accuracy: 0.7332 - loss: 0.5510\n",
            "Epoch 6/50\n",
            "858/858 - 1s - 2ms/step - accuracy: 0.7341 - loss: 0.5498\n",
            "Epoch 7/50\n",
            "858/858 - 3s - 3ms/step - accuracy: 0.7337 - loss: 0.5501\n",
            "Epoch 8/50\n",
            "858/858 - 2s - 2ms/step - accuracy: 0.7339 - loss: 0.5489\n",
            "Epoch 9/50\n",
            "858/858 - 2s - 2ms/step - accuracy: 0.7348 - loss: 0.5484\n",
            "Epoch 10/50\n",
            "858/858 - 2s - 2ms/step - accuracy: 0.7340 - loss: 0.5480\n",
            "Epoch 11/50\n",
            "858/858 - 3s - 3ms/step - accuracy: 0.7352 - loss: 0.5473\n",
            "Epoch 12/50\n",
            "858/858 - 3s - 3ms/step - accuracy: 0.7354 - loss: 0.5466\n",
            "Epoch 13/50\n",
            "858/858 - 3s - 3ms/step - accuracy: 0.7355 - loss: 0.5469\n",
            "Epoch 14/50\n",
            "858/858 - 3s - 3ms/step - accuracy: 0.7354 - loss: 0.5460\n",
            "Epoch 15/50\n",
            "858/858 - 2s - 2ms/step - accuracy: 0.7356 - loss: 0.5455\n",
            "Epoch 16/50\n",
            "858/858 - 1s - 2ms/step - accuracy: 0.7360 - loss: 0.5459\n",
            "Epoch 17/50\n",
            "858/858 - 1s - 2ms/step - accuracy: 0.7364 - loss: 0.5453\n",
            "Epoch 18/50\n",
            "858/858 - 3s - 3ms/step - accuracy: 0.7365 - loss: 0.5452\n",
            "Epoch 19/50\n",
            "858/858 - 1s - 2ms/step - accuracy: 0.7369 - loss: 0.5445\n",
            "Epoch 20/50\n",
            "858/858 - 3s - 4ms/step - accuracy: 0.7371 - loss: 0.5445\n",
            "Epoch 21/50\n",
            "858/858 - 2s - 2ms/step - accuracy: 0.7367 - loss: 0.5440\n",
            "Epoch 22/50\n",
            "858/858 - 2s - 2ms/step - accuracy: 0.7367 - loss: 0.5440\n",
            "Epoch 23/50\n",
            "858/858 - 3s - 3ms/step - accuracy: 0.7367 - loss: 0.5436\n",
            "Epoch 24/50\n",
            "858/858 - 1s - 2ms/step - accuracy: 0.7370 - loss: 0.5434\n",
            "Epoch 25/50\n",
            "858/858 - 1s - 2ms/step - accuracy: 0.7365 - loss: 0.5430\n",
            "Epoch 26/50\n",
            "858/858 - 3s - 3ms/step - accuracy: 0.7374 - loss: 0.5431\n",
            "Epoch 27/50\n",
            "858/858 - 3s - 4ms/step - accuracy: 0.7376 - loss: 0.5426\n",
            "Epoch 28/50\n",
            "858/858 - 2s - 2ms/step - accuracy: 0.7376 - loss: 0.5426\n",
            "Epoch 29/50\n",
            "858/858 - 2s - 3ms/step - accuracy: 0.7368 - loss: 0.5422\n",
            "Epoch 30/50\n",
            "858/858 - 1s - 2ms/step - accuracy: 0.7378 - loss: 0.5422\n",
            "Epoch 31/50\n",
            "858/858 - 3s - 3ms/step - accuracy: 0.7370 - loss: 0.5419\n",
            "Epoch 32/50\n",
            "858/858 - 1s - 2ms/step - accuracy: 0.7377 - loss: 0.5419\n",
            "Epoch 33/50\n",
            "858/858 - 3s - 4ms/step - accuracy: 0.7379 - loss: 0.5416\n",
            "Epoch 34/50\n",
            "858/858 - 2s - 2ms/step - accuracy: 0.7377 - loss: 0.5413\n",
            "Epoch 35/50\n",
            "858/858 - 2s - 3ms/step - accuracy: 0.7381 - loss: 0.5412\n",
            "Epoch 36/50\n",
            "858/858 - 1s - 2ms/step - accuracy: 0.7384 - loss: 0.5412\n",
            "Epoch 37/50\n",
            "858/858 - 3s - 3ms/step - accuracy: 0.7384 - loss: 0.5408\n",
            "Epoch 38/50\n",
            "858/858 - 3s - 3ms/step - accuracy: 0.7382 - loss: 0.5407\n",
            "Epoch 39/50\n",
            "858/858 - 3s - 4ms/step - accuracy: 0.7385 - loss: 0.5406\n",
            "Epoch 40/50\n",
            "858/858 - 2s - 2ms/step - accuracy: 0.7384 - loss: 0.5404\n",
            "Epoch 41/50\n",
            "858/858 - 2s - 3ms/step - accuracy: 0.7386 - loss: 0.5402\n",
            "Epoch 42/50\n",
            "858/858 - 3s - 3ms/step - accuracy: 0.7383 - loss: 0.5402\n",
            "Epoch 43/50\n",
            "858/858 - 3s - 3ms/step - accuracy: 0.7387 - loss: 0.5404\n",
            "Epoch 44/50\n",
            "858/858 - 1s - 2ms/step - accuracy: 0.7387 - loss: 0.5405\n",
            "Epoch 45/50\n",
            "858/858 - 2s - 2ms/step - accuracy: 0.7387 - loss: 0.5397\n",
            "Epoch 46/50\n",
            "858/858 - 2s - 3ms/step - accuracy: 0.7384 - loss: 0.5399\n",
            "Epoch 47/50\n",
            "858/858 - 1s - 2ms/step - accuracy: 0.7385 - loss: 0.5398\n",
            "Epoch 48/50\n",
            "858/858 - 2s - 3ms/step - accuracy: 0.7384 - loss: 0.5397\n",
            "Epoch 49/50\n",
            "858/858 - 1s - 2ms/step - accuracy: 0.7391 - loss: 0.5395\n",
            "Epoch 50/50\n",
            "858/858 - 3s - 3ms/step - accuracy: 0.7393 - loss: 0.5394\n"
          ]
        }
      ]
    },
    {
      "cell_type": "code",
      "source": [
        "# Evaluate model\n",
        "loss1, accuracy1 = nn1.evaluate(X_test_scaled, y_test, verbose=2)\n",
        "print(f\"Attempt 1 - Loss: {loss1}, Accuracy: {accuracy1}\")"
      ],
      "metadata": {
        "colab": {
          "base_uri": "https://localhost:8080/"
        },
        "id": "VYkcGkCgDUTi",
        "outputId": "9992258a-8383-47a4-e84b-f07908606616"
      },
      "execution_count": 22,
      "outputs": [
        {
          "output_type": "stream",
          "name": "stdout",
          "text": [
            "215/215 - 0s - 2ms/step - accuracy: 0.7262 - loss: 0.5744\n",
            "Attempt 1 - Loss: 0.5744023323059082, Accuracy: 0.7262390851974487\n"
          ]
        }
      ]
    },
    {
      "cell_type": "markdown",
      "source": [
        "# Attempt 2: Adjust Activation Functions and Add Dropout"
      ],
      "metadata": {
        "id": "7IOwMmdnEYJb"
      }
    },
    {
      "cell_type": "code",
      "source": [
        "# Define model\n",
        "nn2 = tf.keras.models.Sequential()\n",
        "nn2.add(tf.keras.layers.Dense(units=128, activation=\"tanh\", input_dim=X_train_scaled.shape[1]))\n",
        "nn2.add(tf.keras.layers.Dropout(0.2))\n",
        "nn2.add(tf.keras.layers.Dense(units=64, activation=\"relu\"))\n",
        "nn2.add(tf.keras.layers.Dense(units=32, activation=\"relu\"))\n",
        "nn2.add(tf.keras.layers.Dense(units=1, activation=\"sigmoid\"))\n",
        "\n",
        "# Compile and train model\n",
        "nn2.compile(optimizer=\"adam\", loss=\"binary_crossentropy\", metrics=[\"accuracy\"])\n",
        "history2 = nn2.fit(X_train_scaled, y_train, epochs=100, batch_size=32, verbose=2)"
      ],
      "metadata": {
        "colab": {
          "base_uri": "https://localhost:8080/"
        },
        "id": "32hOOkoO6a6n",
        "outputId": "1a19e75e-fa5a-460e-f99a-51eff61daca2"
      },
      "execution_count": 23,
      "outputs": [
        {
          "output_type": "stream",
          "name": "stdout",
          "text": [
            "Epoch 1/100\n",
            "858/858 - 3s - 3ms/step - accuracy: 0.7199 - loss: 0.5711\n",
            "Epoch 2/100\n",
            "858/858 - 3s - 3ms/step - accuracy: 0.7258 - loss: 0.5609\n",
            "Epoch 3/100\n",
            "858/858 - 1s - 2ms/step - accuracy: 0.7287 - loss: 0.5579\n",
            "Epoch 4/100\n",
            "858/858 - 1s - 2ms/step - accuracy: 0.7293 - loss: 0.5565\n",
            "Epoch 5/100\n",
            "858/858 - 2s - 2ms/step - accuracy: 0.7295 - loss: 0.5553\n",
            "Epoch 6/100\n",
            "858/858 - 2s - 2ms/step - accuracy: 0.7301 - loss: 0.5534\n",
            "Epoch 7/100\n",
            "858/858 - 2s - 2ms/step - accuracy: 0.7315 - loss: 0.5528\n",
            "Epoch 8/100\n",
            "858/858 - 3s - 3ms/step - accuracy: 0.7312 - loss: 0.5526\n",
            "Epoch 9/100\n",
            "858/858 - 3s - 3ms/step - accuracy: 0.7324 - loss: 0.5512\n",
            "Epoch 10/100\n",
            "858/858 - 3s - 3ms/step - accuracy: 0.7320 - loss: 0.5512\n",
            "Epoch 11/100\n",
            "858/858 - 2s - 2ms/step - accuracy: 0.7327 - loss: 0.5513\n",
            "Epoch 12/100\n",
            "858/858 - 3s - 3ms/step - accuracy: 0.7338 - loss: 0.5509\n",
            "Epoch 13/100\n",
            "858/858 - 2s - 2ms/step - accuracy: 0.7323 - loss: 0.5500\n",
            "Epoch 14/100\n",
            "858/858 - 3s - 3ms/step - accuracy: 0.7349 - loss: 0.5497\n",
            "Epoch 15/100\n",
            "858/858 - 3s - 3ms/step - accuracy: 0.7334 - loss: 0.5490\n",
            "Epoch 16/100\n",
            "858/858 - 1s - 2ms/step - accuracy: 0.7338 - loss: 0.5490\n",
            "Epoch 17/100\n",
            "858/858 - 3s - 4ms/step - accuracy: 0.7332 - loss: 0.5495\n",
            "Epoch 18/100\n",
            "858/858 - 2s - 2ms/step - accuracy: 0.7348 - loss: 0.5482\n",
            "Epoch 19/100\n",
            "858/858 - 2s - 3ms/step - accuracy: 0.7346 - loss: 0.5479\n",
            "Epoch 20/100\n",
            "858/858 - 1s - 2ms/step - accuracy: 0.7351 - loss: 0.5480\n",
            "Epoch 21/100\n",
            "858/858 - 1s - 2ms/step - accuracy: 0.7347 - loss: 0.5477\n",
            "Epoch 22/100\n",
            "858/858 - 1s - 2ms/step - accuracy: 0.7356 - loss: 0.5471\n",
            "Epoch 23/100\n",
            "858/858 - 3s - 3ms/step - accuracy: 0.7356 - loss: 0.5464\n",
            "Epoch 24/100\n",
            "858/858 - 3s - 4ms/step - accuracy: 0.7350 - loss: 0.5467\n",
            "Epoch 25/100\n",
            "858/858 - 2s - 2ms/step - accuracy: 0.7360 - loss: 0.5461\n",
            "Epoch 26/100\n",
            "858/858 - 1s - 2ms/step - accuracy: 0.7357 - loss: 0.5465\n",
            "Epoch 27/100\n",
            "858/858 - 1s - 2ms/step - accuracy: 0.7363 - loss: 0.5466\n",
            "Epoch 28/100\n",
            "858/858 - 1s - 2ms/step - accuracy: 0.7355 - loss: 0.5462\n",
            "Epoch 29/100\n",
            "858/858 - 1s - 2ms/step - accuracy: 0.7360 - loss: 0.5463\n",
            "Epoch 30/100\n",
            "858/858 - 3s - 3ms/step - accuracy: 0.7364 - loss: 0.5455\n",
            "Epoch 31/100\n",
            "858/858 - 2s - 3ms/step - accuracy: 0.7368 - loss: 0.5450\n",
            "Epoch 32/100\n",
            "858/858 - 2s - 2ms/step - accuracy: 0.7356 - loss: 0.5460\n",
            "Epoch 33/100\n",
            "858/858 - 2s - 2ms/step - accuracy: 0.7373 - loss: 0.5449\n",
            "Epoch 34/100\n",
            "858/858 - 3s - 3ms/step - accuracy: 0.7359 - loss: 0.5458\n",
            "Epoch 35/100\n",
            "858/858 - 1s - 2ms/step - accuracy: 0.7361 - loss: 0.5445\n",
            "Epoch 36/100\n",
            "858/858 - 3s - 3ms/step - accuracy: 0.7367 - loss: 0.5446\n",
            "Epoch 37/100\n",
            "858/858 - 2s - 2ms/step - accuracy: 0.7375 - loss: 0.5446\n",
            "Epoch 38/100\n",
            "858/858 - 2s - 2ms/step - accuracy: 0.7368 - loss: 0.5441\n",
            "Epoch 39/100\n",
            "858/858 - 2s - 2ms/step - accuracy: 0.7373 - loss: 0.5440\n",
            "Epoch 40/100\n",
            "858/858 - 2s - 3ms/step - accuracy: 0.7373 - loss: 0.5446\n",
            "Epoch 41/100\n",
            "858/858 - 3s - 3ms/step - accuracy: 0.7374 - loss: 0.5440\n",
            "Epoch 42/100\n",
            "858/858 - 1s - 2ms/step - accuracy: 0.7373 - loss: 0.5441\n",
            "Epoch 43/100\n",
            "858/858 - 1s - 2ms/step - accuracy: 0.7369 - loss: 0.5445\n",
            "Epoch 44/100\n",
            "858/858 - 2s - 2ms/step - accuracy: 0.7373 - loss: 0.5435\n",
            "Epoch 45/100\n",
            "858/858 - 2s - 3ms/step - accuracy: 0.7366 - loss: 0.5438\n",
            "Epoch 46/100\n",
            "858/858 - 2s - 2ms/step - accuracy: 0.7375 - loss: 0.5439\n",
            "Epoch 47/100\n",
            "858/858 - 1s - 2ms/step - accuracy: 0.7365 - loss: 0.5434\n",
            "Epoch 48/100\n",
            "858/858 - 1s - 2ms/step - accuracy: 0.7376 - loss: 0.5435\n",
            "Epoch 49/100\n",
            "858/858 - 3s - 3ms/step - accuracy: 0.7380 - loss: 0.5436\n",
            "Epoch 50/100\n",
            "858/858 - 3s - 3ms/step - accuracy: 0.7376 - loss: 0.5428\n",
            "Epoch 51/100\n",
            "858/858 - 2s - 2ms/step - accuracy: 0.7371 - loss: 0.5433\n",
            "Epoch 52/100\n",
            "858/858 - 3s - 3ms/step - accuracy: 0.7375 - loss: 0.5425\n",
            "Epoch 53/100\n",
            "858/858 - 2s - 2ms/step - accuracy: 0.7368 - loss: 0.5434\n",
            "Epoch 54/100\n",
            "858/858 - 3s - 3ms/step - accuracy: 0.7377 - loss: 0.5420\n",
            "Epoch 55/100\n",
            "858/858 - 1s - 2ms/step - accuracy: 0.7377 - loss: 0.5429\n",
            "Epoch 56/100\n",
            "858/858 - 1s - 2ms/step - accuracy: 0.7370 - loss: 0.5426\n",
            "Epoch 57/100\n",
            "858/858 - 3s - 3ms/step - accuracy: 0.7387 - loss: 0.5421\n",
            "Epoch 58/100\n",
            "858/858 - 3s - 3ms/step - accuracy: 0.7371 - loss: 0.5423\n",
            "Epoch 59/100\n",
            "858/858 - 2s - 2ms/step - accuracy: 0.7384 - loss: 0.5419\n",
            "Epoch 60/100\n",
            "858/858 - 3s - 3ms/step - accuracy: 0.7377 - loss: 0.5425\n",
            "Epoch 61/100\n",
            "858/858 - 1s - 2ms/step - accuracy: 0.7378 - loss: 0.5418\n",
            "Epoch 62/100\n",
            "858/858 - 3s - 3ms/step - accuracy: 0.7384 - loss: 0.5420\n",
            "Epoch 63/100\n",
            "858/858 - 2s - 2ms/step - accuracy: 0.7383 - loss: 0.5413\n",
            "Epoch 64/100\n",
            "858/858 - 2s - 2ms/step - accuracy: 0.7390 - loss: 0.5417\n",
            "Epoch 65/100\n",
            "858/858 - 2s - 2ms/step - accuracy: 0.7381 - loss: 0.5419\n",
            "Epoch 66/100\n",
            "858/858 - 2s - 3ms/step - accuracy: 0.7370 - loss: 0.5420\n",
            "Epoch 67/100\n",
            "858/858 - 1s - 2ms/step - accuracy: 0.7382 - loss: 0.5415\n",
            "Epoch 68/100\n",
            "858/858 - 1s - 2ms/step - accuracy: 0.7383 - loss: 0.5416\n",
            "Epoch 69/100\n",
            "858/858 - 1s - 2ms/step - accuracy: 0.7380 - loss: 0.5410\n",
            "Epoch 70/100\n",
            "858/858 - 1s - 2ms/step - accuracy: 0.7378 - loss: 0.5418\n",
            "Epoch 71/100\n",
            "858/858 - 2s - 2ms/step - accuracy: 0.7388 - loss: 0.5416\n",
            "Epoch 72/100\n",
            "858/858 - 2s - 3ms/step - accuracy: 0.7377 - loss: 0.5410\n",
            "Epoch 73/100\n",
            "858/858 - 2s - 2ms/step - accuracy: 0.7389 - loss: 0.5411\n",
            "Epoch 74/100\n",
            "858/858 - 3s - 3ms/step - accuracy: 0.7379 - loss: 0.5416\n",
            "Epoch 75/100\n",
            "858/858 - 3s - 3ms/step - accuracy: 0.7381 - loss: 0.5407\n",
            "Epoch 76/100\n",
            "858/858 - 1s - 2ms/step - accuracy: 0.7376 - loss: 0.5413\n",
            "Epoch 77/100\n",
            "858/858 - 2s - 2ms/step - accuracy: 0.7381 - loss: 0.5416\n",
            "Epoch 78/100\n",
            "858/858 - 2s - 3ms/step - accuracy: 0.7376 - loss: 0.5405\n",
            "Epoch 79/100\n",
            "858/858 - 2s - 2ms/step - accuracy: 0.7378 - loss: 0.5415\n",
            "Epoch 80/100\n",
            "858/858 - 3s - 3ms/step - accuracy: 0.7380 - loss: 0.5402\n",
            "Epoch 81/100\n",
            "858/858 - 1s - 2ms/step - accuracy: 0.7383 - loss: 0.5407\n",
            "Epoch 82/100\n",
            "858/858 - 1s - 2ms/step - accuracy: 0.7387 - loss: 0.5403\n",
            "Epoch 83/100\n",
            "858/858 - 3s - 3ms/step - accuracy: 0.7385 - loss: 0.5407\n",
            "Epoch 84/100\n",
            "858/858 - 2s - 2ms/step - accuracy: 0.7386 - loss: 0.5408\n",
            "Epoch 85/100\n",
            "858/858 - 2s - 2ms/step - accuracy: 0.7383 - loss: 0.5403\n",
            "Epoch 86/100\n",
            "858/858 - 2s - 2ms/step - accuracy: 0.7384 - loss: 0.5408\n",
            "Epoch 87/100\n",
            "858/858 - 2s - 3ms/step - accuracy: 0.7388 - loss: 0.5402\n",
            "Epoch 88/100\n",
            "858/858 - 3s - 3ms/step - accuracy: 0.7391 - loss: 0.5403\n",
            "Epoch 89/100\n",
            "858/858 - 1s - 2ms/step - accuracy: 0.7386 - loss: 0.5403\n",
            "Epoch 90/100\n",
            "858/858 - 3s - 3ms/step - accuracy: 0.7393 - loss: 0.5403\n",
            "Epoch 91/100\n",
            "858/858 - 2s - 2ms/step - accuracy: 0.7384 - loss: 0.5392\n",
            "Epoch 92/100\n",
            "858/858 - 2s - 2ms/step - accuracy: 0.7385 - loss: 0.5406\n",
            "Epoch 93/100\n",
            "858/858 - 2s - 2ms/step - accuracy: 0.7390 - loss: 0.5398\n",
            "Epoch 94/100\n",
            "858/858 - 3s - 3ms/step - accuracy: 0.7396 - loss: 0.5398\n",
            "Epoch 95/100\n",
            "858/858 - 1s - 2ms/step - accuracy: 0.7391 - loss: 0.5393\n",
            "Epoch 96/100\n",
            "858/858 - 3s - 3ms/step - accuracy: 0.7386 - loss: 0.5402\n",
            "Epoch 97/100\n",
            "858/858 - 3s - 4ms/step - accuracy: 0.7391 - loss: 0.5403\n",
            "Epoch 98/100\n",
            "858/858 - 2s - 3ms/step - accuracy: 0.7386 - loss: 0.5400\n",
            "Epoch 99/100\n",
            "858/858 - 1s - 2ms/step - accuracy: 0.7387 - loss: 0.5392\n",
            "Epoch 100/100\n",
            "858/858 - 3s - 3ms/step - accuracy: 0.7387 - loss: 0.5397\n"
          ]
        }
      ]
    },
    {
      "cell_type": "code",
      "source": [
        "# Evaluate model\n",
        "loss2, accuracy2 = nn2.evaluate(X_test_scaled, y_test, verbose=2)\n",
        "print(f\"Attempt 2 - Loss: {loss2}, Accuracy: {accuracy2}\")"
      ],
      "metadata": {
        "colab": {
          "base_uri": "https://localhost:8080/"
        },
        "id": "xv9IP3AOFZn_",
        "outputId": "57f11738-31ee-4c50-fe6f-6b3de126e818"
      },
      "execution_count": 24,
      "outputs": [
        {
          "output_type": "stream",
          "name": "stdout",
          "text": [
            "215/215 - 0s - 2ms/step - accuracy: 0.7271 - loss: 0.5675\n",
            "Attempt 2 - Loss: 0.5674978494644165, Accuracy: 0.7271137237548828\n"
          ]
        }
      ]
    },
    {
      "cell_type": "markdown",
      "source": [
        "# Attempt 3: Longer Training with Early Stopping"
      ],
      "metadata": {
        "id": "g7QolFIiFfVr"
      }
    },
    {
      "cell_type": "code",
      "source": [
        "# Define model\n",
        "nn3 = tf.keras.models.Sequential()\n",
        "nn3.add(tf.keras.layers.Dense(units=150, activation=\"relu\", input_dim=X_train_scaled.shape[1]))\n",
        "nn3.add(tf.keras.layers.Dense(units=100, activation=\"relu\"))\n",
        "nn3.add(tf.keras.layers.Dense(units=50, activation=\"relu\"))\n",
        "nn3.add(tf.keras.layers.Dense(units=1, activation=\"sigmoid\"))\n",
        "\n",
        "# Compile model\n",
        "nn3.compile(optimizer=\"adam\", loss=\"binary_crossentropy\", metrics=[\"accuracy\"])\n",
        "\n",
        "# Add EarlyStopping callback\n",
        "early_stopping = tf.keras.callbacks.EarlyStopping(monitor=\"loss\", patience=5)\n",
        "\n",
        "# Train model\n",
        "history3 = nn3.fit(X_train_scaled, y_train, epochs=200, batch_size=32, callbacks=[early_stopping], verbose=2)"
      ],
      "metadata": {
        "colab": {
          "base_uri": "https://localhost:8080/"
        },
        "id": "Y47pPFzdFdx7",
        "outputId": "94e6e0db-2b9d-4d67-c821-2aba6b065618"
      },
      "execution_count": 25,
      "outputs": [
        {
          "output_type": "stream",
          "name": "stdout",
          "text": [
            "Epoch 1/200\n",
            "858/858 - 3s - 4ms/step - accuracy: 0.7215 - loss: 0.5714\n",
            "Epoch 2/200\n",
            "858/858 - 1s - 2ms/step - accuracy: 0.7302 - loss: 0.5569\n",
            "Epoch 3/200\n",
            "858/858 - 4s - 5ms/step - accuracy: 0.7303 - loss: 0.5543\n",
            "Epoch 4/200\n",
            "858/858 - 4s - 4ms/step - accuracy: 0.7325 - loss: 0.5526\n",
            "Epoch 5/200\n",
            "858/858 - 1s - 2ms/step - accuracy: 0.7319 - loss: 0.5520\n",
            "Epoch 6/200\n",
            "858/858 - 3s - 3ms/step - accuracy: 0.7342 - loss: 0.5508\n",
            "Epoch 7/200\n",
            "858/858 - 1s - 2ms/step - accuracy: 0.7328 - loss: 0.5505\n",
            "Epoch 8/200\n",
            "858/858 - 2s - 2ms/step - accuracy: 0.7330 - loss: 0.5493\n",
            "Epoch 9/200\n",
            "858/858 - 2s - 3ms/step - accuracy: 0.7334 - loss: 0.5493\n",
            "Epoch 10/200\n",
            "858/858 - 2s - 2ms/step - accuracy: 0.7348 - loss: 0.5477\n",
            "Epoch 11/200\n",
            "858/858 - 1s - 2ms/step - accuracy: 0.7340 - loss: 0.5475\n",
            "Epoch 12/200\n",
            "858/858 - 3s - 3ms/step - accuracy: 0.7357 - loss: 0.5468\n",
            "Epoch 13/200\n",
            "858/858 - 3s - 3ms/step - accuracy: 0.7350 - loss: 0.5465\n",
            "Epoch 14/200\n",
            "858/858 - 1s - 2ms/step - accuracy: 0.7354 - loss: 0.5462\n",
            "Epoch 15/200\n",
            "858/858 - 3s - 4ms/step - accuracy: 0.7360 - loss: 0.5457\n",
            "Epoch 16/200\n",
            "858/858 - 2s - 2ms/step - accuracy: 0.7366 - loss: 0.5450\n",
            "Epoch 17/200\n",
            "858/858 - 2s - 2ms/step - accuracy: 0.7359 - loss: 0.5446\n",
            "Epoch 18/200\n",
            "858/858 - 3s - 3ms/step - accuracy: 0.7364 - loss: 0.5443\n",
            "Epoch 19/200\n",
            "858/858 - 1s - 2ms/step - accuracy: 0.7363 - loss: 0.5441\n",
            "Epoch 20/200\n",
            "858/858 - 1s - 2ms/step - accuracy: 0.7360 - loss: 0.5437\n",
            "Epoch 21/200\n",
            "858/858 - 3s - 3ms/step - accuracy: 0.7366 - loss: 0.5436\n",
            "Epoch 22/200\n",
            "858/858 - 2s - 3ms/step - accuracy: 0.7370 - loss: 0.5432\n",
            "Epoch 23/200\n",
            "858/858 - 2s - 2ms/step - accuracy: 0.7369 - loss: 0.5435\n",
            "Epoch 24/200\n",
            "858/858 - 1s - 2ms/step - accuracy: 0.7377 - loss: 0.5424\n",
            "Epoch 25/200\n",
            "858/858 - 1s - 2ms/step - accuracy: 0.7368 - loss: 0.5425\n",
            "Epoch 26/200\n",
            "858/858 - 1s - 2ms/step - accuracy: 0.7376 - loss: 0.5420\n",
            "Epoch 27/200\n",
            "858/858 - 1s - 2ms/step - accuracy: 0.7367 - loss: 0.5419\n",
            "Epoch 28/200\n",
            "858/858 - 3s - 3ms/step - accuracy: 0.7380 - loss: 0.5419\n",
            "Epoch 29/200\n",
            "858/858 - 2s - 2ms/step - accuracy: 0.7381 - loss: 0.5414\n",
            "Epoch 30/200\n",
            "858/858 - 2s - 3ms/step - accuracy: 0.7373 - loss: 0.5413\n",
            "Epoch 31/200\n",
            "858/858 - 2s - 2ms/step - accuracy: 0.7378 - loss: 0.5408\n",
            "Epoch 32/200\n",
            "858/858 - 3s - 3ms/step - accuracy: 0.7379 - loss: 0.5413\n",
            "Epoch 33/200\n",
            "858/858 - 3s - 3ms/step - accuracy: 0.7382 - loss: 0.5409\n",
            "Epoch 34/200\n",
            "858/858 - 1s - 2ms/step - accuracy: 0.7380 - loss: 0.5402\n",
            "Epoch 35/200\n",
            "858/858 - 3s - 3ms/step - accuracy: 0.7382 - loss: 0.5402\n",
            "Epoch 36/200\n",
            "858/858 - 3s - 3ms/step - accuracy: 0.7381 - loss: 0.5405\n",
            "Epoch 37/200\n",
            "858/858 - 2s - 2ms/step - accuracy: 0.7388 - loss: 0.5398\n",
            "Epoch 38/200\n",
            "858/858 - 3s - 3ms/step - accuracy: 0.7386 - loss: 0.5400\n",
            "Epoch 39/200\n",
            "858/858 - 3s - 3ms/step - accuracy: 0.7380 - loss: 0.5404\n",
            "Epoch 40/200\n",
            "858/858 - 3s - 3ms/step - accuracy: 0.7389 - loss: 0.5397\n",
            "Epoch 41/200\n",
            "858/858 - 2s - 2ms/step - accuracy: 0.7382 - loss: 0.5395\n",
            "Epoch 42/200\n",
            "858/858 - 2s - 3ms/step - accuracy: 0.7388 - loss: 0.5393\n",
            "Epoch 43/200\n",
            "858/858 - 2s - 2ms/step - accuracy: 0.7385 - loss: 0.5395\n",
            "Epoch 44/200\n",
            "858/858 - 3s - 3ms/step - accuracy: 0.7389 - loss: 0.5393\n",
            "Epoch 45/200\n",
            "858/858 - 2s - 3ms/step - accuracy: 0.7386 - loss: 0.5385\n",
            "Epoch 46/200\n",
            "858/858 - 3s - 3ms/step - accuracy: 0.7388 - loss: 0.5387\n",
            "Epoch 47/200\n",
            "858/858 - 3s - 4ms/step - accuracy: 0.7381 - loss: 0.5391\n",
            "Epoch 48/200\n",
            "858/858 - 1s - 2ms/step - accuracy: 0.7388 - loss: 0.5388\n",
            "Epoch 49/200\n",
            "858/858 - 2s - 3ms/step - accuracy: 0.7390 - loss: 0.5384\n",
            "Epoch 50/200\n",
            "858/858 - 3s - 3ms/step - accuracy: 0.7392 - loss: 0.5382\n",
            "Epoch 51/200\n",
            "858/858 - 3s - 3ms/step - accuracy: 0.7391 - loss: 0.5386\n",
            "Epoch 52/200\n",
            "858/858 - 2s - 2ms/step - accuracy: 0.7388 - loss: 0.5385\n",
            "Epoch 53/200\n",
            "858/858 - 3s - 4ms/step - accuracy: 0.7389 - loss: 0.5383\n",
            "Epoch 54/200\n",
            "858/858 - 2s - 2ms/step - accuracy: 0.7393 - loss: 0.5377\n",
            "Epoch 55/200\n",
            "858/858 - 3s - 3ms/step - accuracy: 0.7389 - loss: 0.5378\n",
            "Epoch 56/200\n",
            "858/858 - 1s - 2ms/step - accuracy: 0.7392 - loss: 0.5380\n",
            "Epoch 57/200\n",
            "858/858 - 3s - 3ms/step - accuracy: 0.7394 - loss: 0.5380\n",
            "Epoch 58/200\n",
            "858/858 - 3s - 4ms/step - accuracy: 0.7396 - loss: 0.5377\n",
            "Epoch 59/200\n",
            "858/858 - 2s - 3ms/step - accuracy: 0.7396 - loss: 0.5380\n",
            "Epoch 60/200\n",
            "858/858 - 2s - 3ms/step - accuracy: 0.7395 - loss: 0.5388\n",
            "Epoch 61/200\n",
            "858/858 - 3s - 3ms/step - accuracy: 0.7393 - loss: 0.5379\n",
            "Epoch 62/200\n",
            "858/858 - 3s - 3ms/step - accuracy: 0.7399 - loss: 0.5374\n",
            "Epoch 63/200\n",
            "858/858 - 3s - 3ms/step - accuracy: 0.7395 - loss: 0.5370\n",
            "Epoch 64/200\n",
            "858/858 - 3s - 3ms/step - accuracy: 0.7399 - loss: 0.5369\n",
            "Epoch 65/200\n",
            "858/858 - 2s - 2ms/step - accuracy: 0.7389 - loss: 0.5378\n",
            "Epoch 66/200\n",
            "858/858 - 1s - 2ms/step - accuracy: 0.7399 - loss: 0.5375\n",
            "Epoch 67/200\n",
            "858/858 - 3s - 3ms/step - accuracy: 0.7396 - loss: 0.5368\n",
            "Epoch 68/200\n",
            "858/858 - 1s - 2ms/step - accuracy: 0.7398 - loss: 0.5373\n",
            "Epoch 69/200\n",
            "858/858 - 1s - 2ms/step - accuracy: 0.7403 - loss: 0.5374\n",
            "Epoch 70/200\n",
            "858/858 - 3s - 4ms/step - accuracy: 0.7395 - loss: 0.5372\n",
            "Epoch 71/200\n",
            "858/858 - 2s - 2ms/step - accuracy: 0.7398 - loss: 0.5374\n",
            "Epoch 72/200\n",
            "858/858 - 2s - 3ms/step - accuracy: 0.7393 - loss: 0.5368\n",
            "Epoch 73/200\n",
            "858/858 - 1s - 2ms/step - accuracy: 0.7402 - loss: 0.5366\n",
            "Epoch 74/200\n",
            "858/858 - 3s - 3ms/step - accuracy: 0.7396 - loss: 0.5368\n",
            "Epoch 75/200\n",
            "858/858 - 3s - 3ms/step - accuracy: 0.7400 - loss: 0.5365\n",
            "Epoch 76/200\n",
            "858/858 - 2s - 2ms/step - accuracy: 0.7401 - loss: 0.5364\n",
            "Epoch 77/200\n",
            "858/858 - 2s - 3ms/step - accuracy: 0.7402 - loss: 0.5372\n",
            "Epoch 78/200\n",
            "858/858 - 2s - 2ms/step - accuracy: 0.7399 - loss: 0.5366\n",
            "Epoch 79/200\n",
            "858/858 - 3s - 3ms/step - accuracy: 0.7403 - loss: 0.5363\n",
            "Epoch 80/200\n",
            "858/858 - 1s - 2ms/step - accuracy: 0.7398 - loss: 0.5367\n",
            "Epoch 81/200\n",
            "858/858 - 2s - 3ms/step - accuracy: 0.7403 - loss: 0.5364\n",
            "Epoch 82/200\n",
            "858/858 - 3s - 4ms/step - accuracy: 0.7402 - loss: 0.5362\n",
            "Epoch 83/200\n",
            "858/858 - 3s - 3ms/step - accuracy: 0.7403 - loss: 0.5363\n",
            "Epoch 84/200\n",
            "858/858 - 1s - 2ms/step - accuracy: 0.7400 - loss: 0.5369\n",
            "Epoch 85/200\n",
            "858/858 - 3s - 3ms/step - accuracy: 0.7397 - loss: 0.5368\n",
            "Epoch 86/200\n",
            "858/858 - 3s - 3ms/step - accuracy: 0.7404 - loss: 0.5364\n",
            "Epoch 87/200\n",
            "858/858 - 2s - 3ms/step - accuracy: 0.7403 - loss: 0.5357\n",
            "Epoch 88/200\n",
            "858/858 - 2s - 2ms/step - accuracy: 0.7404 - loss: 0.5370\n",
            "Epoch 89/200\n",
            "858/858 - 2s - 3ms/step - accuracy: 0.7408 - loss: 0.5359\n",
            "Epoch 90/200\n",
            "858/858 - 2s - 2ms/step - accuracy: 0.7402 - loss: 0.5363\n",
            "Epoch 91/200\n",
            "858/858 - 3s - 3ms/step - accuracy: 0.7404 - loss: 0.5362\n",
            "Epoch 92/200\n",
            "858/858 - 1s - 2ms/step - accuracy: 0.7406 - loss: 0.5361\n"
          ]
        }
      ]
    },
    {
      "cell_type": "code",
      "source": [
        "# Evaluate model\n",
        "loss3, accuracy3 = nn3.evaluate(X_test_scaled, y_test, verbose=2)\n",
        "print(f\"Attempt 3 - Loss: {loss3}, Accuracy: {accuracy3}\")"
      ],
      "metadata": {
        "colab": {
          "base_uri": "https://localhost:8080/"
        },
        "id": "0viWtH0CFxqw",
        "outputId": "592bdd51-83ca-46c0-bde9-26842aa7ac27"
      },
      "execution_count": 26,
      "outputs": [
        {
          "output_type": "stream",
          "name": "stdout",
          "text": [
            "215/215 - 0s - 2ms/step - accuracy: 0.7290 - loss: 0.6031\n",
            "Attempt 3 - Loss: 0.6031057834625244, Accuracy: 0.7290087342262268\n"
          ]
        }
      ]
    },
    {
      "cell_type": "code",
      "source": [
        "# Save the best model (nn3)\n",
        "nn3.save(\"AlphabetSoupCharity_Optimization.h5\")"
      ],
      "metadata": {
        "colab": {
          "base_uri": "https://localhost:8080/"
        },
        "id": "IccK6jnaKgCC",
        "outputId": "62f8fdf4-6c68-4995-ffb7-65564b13ffe6"
      },
      "execution_count": 27,
      "outputs": [
        {
          "output_type": "stream",
          "name": "stderr",
          "text": [
            "WARNING:absl:You are saving your model as an HDF5 file via `model.save()` or `keras.saving.save_model(model)`. This file format is considered legacy. We recommend using instead the native Keras format, e.g. `model.save('my_model.keras')` or `keras.saving.save_model(model, 'my_model.keras')`. \n"
          ]
        }
      ]
    }
  ]
}